{
 "cells": [
  {
   "cell_type": "code",
   "execution_count": 3,
   "metadata": {},
   "outputs": [
    {
     "name": "stdout",
     "output_type": "stream",
     "text": [
      "Using matplotlib backend: Qt5Agg\n"
     ]
    }
   ],
   "source": [
    "%run calibration_Cube_v4.py\n",
    "%matplotlib"
   ]
  },
  {
   "cell_type": "markdown",
   "metadata": {},
   "source": [
    "### load data and define parameter"
   ]
  },
  {
   "cell_type": "code",
   "execution_count": 4,
   "metadata": {},
   "outputs": [
    {
     "name": "stdout",
     "output_type": "stream",
     "text": [
      "Pixel size analyzed:\n",
      "\t Dual+MY 6650 px\n"
     ]
    }
   ],
   "source": [
    "# initial parameter required\n",
    "# pixel for SZ 10-12\n",
    "name_RoI = ['Dual+MY', 'Dual+MY 1', 'Dual+MY 2']\n",
    "name_dyes = ['Dual+MY']\n",
    "name_single = ['Pt-TFPP+MY', 'Pd-TFPP+MY']\n",
    "unit = 'hPa'\n",
    "analyte = 'O2'\n",
    "\n",
    "# pixel - selection from image cube shape: px(y/x) only dualindicator (name_dyes)\n",
    "# TFPP\n",
    "pixel_rot = [[(305, 1070), (400, 1070), (400, 1140), (305, 1140)],\n",
    "             [(410, 1050), (500, 1050), (500, 1140), (410, 1140)], \n",
    "             [(505, 1040), (570, 1040), (570, 1110), (505, 1110)]] \n",
    "# TPTBP\n",
    "#pixel_rot = [[(800, 987), (850, 987), (850, 1120), (800, 1120)],\n",
    "#             [(900, 980), (990, 980), (990, 1125), (900, 1125)], \n",
    "#             [(1042, 1000), (1073, 1000), (1073, 1130), (1042, 1130)]] \n",
    "print('Pixel size analyzed:')\n",
    "print('\\t', name_dyes[0], (pixel_rot[0][1][0] - pixel_rot[0][0][0]) * (pixel_rot[0][2][1] - pixel_rot[0][0][1]), 'px')\n",
    "\n",
    "# ----------------------------------\n",
    "arg = {'px color': '#a40019', 'color Pt': '#ff8c00', 'color Pd': '#347474', 'colors':'viridis',\n",
    "       'color dual 1': '#655c56', 'color dual 2': '#6ba8a9', \n",
    "       'figure size meas': (5,3), 'fontsize meas': 13.,  # general information for plot\n",
    "       'rotation': 180., # load testcube -> rotate the cube for better visualization\n",
    "       'show bands': 120} # which band shall be plotted in testcube?\n",
    "\n",
    "# information for fitting and linear unmixing\n",
    "arg_fit = {'fit range sensor': (600, 800), 'fit range ref': (490, 580),\n",
    "           'fit concentration': (0, 1000), # which concentration points shall be analyzed \n",
    "           'range lc': (600, 800)} # crop the region for linear unmixing\n",
    "bnds = ((0, None), (0, None)) # in order of name_single\n",
    "\n",
    "# Saving option. Note that the saving of svg-Files requires a rather long time.\n",
    "save_op = {'type': ['png', 'tiff', 'svg'], 'dpi': 300.}\n",
    "\n",
    "# directory to measurement / calibration / generic function / reference files\n",
    "# the calibraiton files (dhr, raw) should contain all information; not only the RoI \n",
    "# (of the single indicator)\n",
    "file_calib_raw = '20200701_ID-SZ10-16_radiometric/TFPP/calibration/Optode_100ms_0hPa_cube_radiometric.hdr'\n",
    "path_calib = '20200701_ID-SZ10-16_radiometric/TFPP/calibration/' \n",
    "file_generic = '20200701_ID-SZ10-16_radiometric/TFPP/output/Generic_function/202086_Generic_function.txt'\n",
    "path_ref = '20200701_ID-SZ10-16_radiometric/TFPP/Firesting/O2_calibration_100ms.txt'\n",
    "path_res = '20200701_ID-SZ10-16_radiometric/TFPP/output/'"
   ]
  },
  {
   "cell_type": "markdown",
   "metadata": {},
   "source": [
    "#### pre-test for pixel and individual file "
   ]
  },
  {
   "cell_type": "code",
   "execution_count": 4,
   "metadata": {},
   "outputs": [],
   "source": [
    "# test plot cube -> check whether selected pixel/area is within cube shape\n",
    "ls_px = []\n",
    "for p in pixel_rot:\n",
    "    for pp in p:\n",
    "        ls_px.append(pp)\n",
    "corr.load_testcube(file_hdr=file_calib_raw, pixel_rot=ls_px, span_area=True, arg=arg) "
   ]
  },
  {
   "cell_type": "markdown",
   "metadata": {},
   "source": [
    "#### Split all calibration cubes into RoI and store information"
   ]
  },
  {
   "cell_type": "code",
   "execution_count": 92,
   "metadata": {},
   "outputs": [
    {
     "name": "stdout",
     "output_type": "stream",
     "text": [
      "=================================\n",
      "Time of execution --- 19.241759777069092 seconds \n"
     ]
    }
   ],
   "source": [
    "start_time = time.time()\n",
    "cube = [corr.hyperCube_preparation(i, arg=arg, name_dyes=name_RoI, pixel_rot=pixel_rot, unit=unit,\n",
    "                                   analyte=analyte, averaging=True, plotting=True, save=False, \n",
    "                                   cube_type='multiple') \n",
    "        for i in glob(path_calib + '/*.hdr')]\n",
    "print('=================================')\n",
    "print(\"Time of execution --- %s seconds \" % (time.time() - start_time))"
   ]
  },
  {
   "cell_type": "code",
   "execution_count": null,
   "metadata": {},
   "outputs": [],
   "source": []
  },
  {
   "cell_type": "markdown",
   "metadata": {},
   "source": [
    "#### calibration dual indicator"
   ]
  },
  {
   "cell_type": "code",
   "execution_count": 6,
   "metadata": {
    "scrolled": false
   },
   "outputs": [
    {
     "name": "stdout",
     "output_type": "stream",
     "text": [
      "WARNING! The spectral deviation of the fit result to the measured data for concentration point 0.00 exceed the default threshold level of 15.00‰\n",
      "WARNING! The spectral deviation of the fit result to the measured data for concentration point 24.84 exceed the default threshold level of 15.00‰\n",
      "Calibration check\n",
      "\t K(sv) - Pt-TFPP+MY 0.012\n",
      "\t K(sv) - Pd-TFPP+MY 0.07\n",
      "\t K(sv) ratio Pd-TFPP+MY / Pt-TFPP+MY 5.891\n",
      "=================================\n",
      "Time of execution --- 15.594842672348022 seconds \n"
     ]
    }
   ],
   "source": [
    "%run calibration_Cube_v4.py\n",
    "\n",
    "# calibration files which are already splitted into RoI\n",
    "path_dual = '20200701_ID-SZ10-16_radiometric/TFPP/output/correctionCube/multiIndicator/'\n",
    "\n",
    "par0 = dict({'Pt-TFPP+MY': dict({'k': 0.1144, 'f': 0.35}), \n",
    "             'Pd-TFPP+MY': dict({'k': 0.8892, 'f': 0.35})})\n",
    "#par0 = dict({'Pt-TPTBP+MY': dict({'k': 0.0447, 'f': 0.887}), \n",
    "#             'Pd-TPTBP+MY': dict({'k': 0.2132, 'f': 0.887})})\n",
    "\n",
    "ref_equal = False # assuming that the reference remain unchanged -> average reference (True)\n",
    "correct_cube = True # does path_dual contain already corrected cubes (True) or not? If not provide the \n",
    "                    # path path_calib to the raw cubes so the correction can be conducted \n",
    "simply = True\n",
    "\n",
    "ls_outlier = None # ['485hPa'] # ['75pc', '35pc', '53pc']\n",
    "save_cube = False\n",
    "start_time = time.time()\n",
    "# =================================================================\n",
    "[dic_av, prefactors, prefactors_std, dic_integral, df_ref_int, \n",
    " dic_SVFit] = dualSensor_calibration_v2(file_generic=file_generic, path_res=path_res, par0=par0,\n",
    "                                        path_dual=path_dual, ls_outlier=ls_outlier, path_ref=path_ref,\n",
    "                                        arg=arg, arg_fit=arg_fit, name_dyes=name_RoI, save_op=save_op,\n",
    "                                        bnds=bnds, ref_equal=ref_equal, corrected_cube=correct_cube,\n",
    "                                        val_name=name_dyes[0], name_single=name_single, unit=unit,\n",
    "                                        analyte=analyte, name_ind=name_dyes, lunmix_method='SLSQP',\n",
    "                                        threshold=15., ratiometric=True, plotting_fit=True,\n",
    "                                        plot_validation=True, save_res=False, simply=simply)\n",
    "print('Calibration check')\n",
    "r = dic_SVFit['Report']\n",
    "print('\\t K(sv) -', name_single[0], round(r[name_dyes[0]][name_single[0]].best_values['k'], 3))\n",
    "print('\\t K(sv) -', name_single[1], round(r[name_dyes[0]][name_single[1]].best_values['k'], 3))\n",
    "print('\\t K(sv) ratio',  [x for x in name_single if x.startswith('Pd')][0], '/',  [x for x in name_single if x.startswith('Pt')][0], \n",
    "      round(r[name_dyes[0]][[x for x in name_single if x.startswith('Pd')][0]].best_values['k'] / r[name_dyes[0]][[x for x in name_single if x.startswith('Pt')][0]].best_values['k'], 3))\n",
    "print('=================================')\n",
    "print(\"Time of execution --- %s seconds \" % (time.time() - start_time))"
   ]
  },
  {
   "cell_type": "code",
   "execution_count": null,
   "metadata": {},
   "outputs": [],
   "source": []
  }
 ],
 "metadata": {
  "kernelspec": {
   "display_name": "Python 3",
   "language": "python",
   "name": "python3"
  },
  "language_info": {
   "codemirror_mode": {
    "name": "ipython",
    "version": 3
   },
   "file_extension": ".py",
   "mimetype": "text/x-python",
   "name": "python",
   "nbconvert_exporter": "python",
   "pygments_lexer": "ipython3",
   "version": "3.7.4"
  }
 },
 "nbformat": 4,
 "nbformat_minor": 2
}
