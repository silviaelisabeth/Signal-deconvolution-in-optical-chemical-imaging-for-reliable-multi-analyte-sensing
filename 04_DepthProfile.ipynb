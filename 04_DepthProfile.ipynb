{
 "cells": [
  {
   "cell_type": "code",
   "execution_count": 2,
   "metadata": {},
   "outputs": [
    {
     "name": "stdout",
     "output_type": "stream",
     "text": [
      "Using matplotlib backend: Qt5Agg\n"
     ]
    }
   ],
   "source": [
    "import matplotlib\n",
    "import matplotlib.pylab as plt\n",
    "import matplotlib.colors as colors\n",
    "from glob import glob\n",
    "import os\n",
    "import pathlib\n",
    "%run depth_profile_v1.py\n",
    "%run calibration_Cube_v4.py\n",
    "%matplotlib"
   ]
  },
  {
   "cell_type": "code",
   "execution_count": 45,
   "metadata": {},
   "outputs": [],
   "source": [
    "# open measurement results\n",
    "path_ = '20200622_rhizosphere/output_fullcalibration20200806/TPTBP/light_adaption_run2/'\n",
    "path_res = '20200622_rhizosphere/output_fullcalibration20200806/results/TPTBP/'\n",
    "save_op = dict({'type': ['png', 'svg', 'tiff'], 'dpi': 300})"
   ]
  },
  {
   "cell_type": "code",
   "execution_count": 4,
   "metadata": {},
   "outputs": [
    {
     "name": "stdout",
     "output_type": "stream",
     "text": [
      "Scale for conversion of px into cm of a known disance: (px, cm) 825, 7.5\n"
     ]
    }
   ],
   "source": [
    "# parameter\n",
    "cmap = 'inferno'\n",
    "lw = 2.5\n",
    "cutoff = 5. # percent\n",
    "name_singles = ['Pt-TPTBP+MY', 'Pd-TPTBP+MY'] # 01072020\n",
    "\n",
    "cm = input('Scale for conversion of px into cm of a known disance: (px, cm) ') # (825, 7.5)"
   ]
  },
  {
   "cell_type": "code",
   "execution_count": 131,
   "metadata": {},
   "outputs": [
    {
     "name": "stdout",
     "output_type": "stream",
     "text": [
      "Analyse  2020810_20200622_optodes_100ms_run2_cube_radiometric_simplifiedSV_ratio_Analysis_run0.hdf5\n",
      "Draw line for depth profile in second plot  Pt-TPTBP+MY\n",
      "21\n",
      "startposition: (109, 132)\n",
      "endposition  : (110, 275)\n",
      "used button  :  MouseButton.LEFT\n"
     ]
    }
   ],
   "source": [
    "# %run depth_profile_v1.py\n",
    "def depth_profile(file, cm_conv, name_single=None, max_calib=True, cutoff=5., lw=2.5, cmap='inferno',\n",
    "                 offset=(0, 0)):\n",
    "    [dict_header, singleID, dic_raw, dict_calib, iratio1, iratio2, analyte1, analyte2, \n",
    "     dic_figures] = calib.load_evaluation(file=file)\n",
    "    dic_calib = dict({'header': dict_header, 'singleID': singleID, 'raw': dic_raw, \n",
    "                      'dict_calib': dict_calib, 'Intensity 1': iratio1, 'Intensity 2': iratio2,\n",
    "                      'Analyte 1': analyte1, 'Analyte 2': analyte2})\n",
    "    \n",
    "    if name_single is None:\n",
    "        ls_ind = singleID\n",
    "    else:\n",
    "        ls_ind = name_single\n",
    "    [d_cm, sens1, sens2, analyte1_px, \n",
    "     analyte2_px] = convert_px_cm(cm=cm_conv, analyte1=analyte1, analyte2=analyte2)\n",
    "\n",
    "    # =================================================================\n",
    "    # plot image frame for depth profile selection\n",
    "    print('Draw line for depth profile in second plot ', singleID[1])\n",
    "    if offset:\n",
    "        print(21)\n",
    "        sens1_ = sens1 - offset[0]\n",
    "        sens2_ = sens2 - offset[1]\n",
    "    [toggle_selector, fig_op, \n",
    "     fig_op2] = plot.plot_measurement_results_depth_analysis(sens1=sens1_, sens2=sens2_, \n",
    "                                                             dict_calib=dict_calib, cmap=cmap,\n",
    "                                                             singleID=ls_ind, cutoff=cutoff,\n",
    "                                                             max_calib=max_calib)\n",
    "\n",
    "    return dic_calib, d_cm, dict_calib, toggle_selector, sens1_, sens2_, analyte1_px, analyte2_px, fig_op, fig_op2\n",
    "\n",
    "for i in glob(path_ + '/*.hdf5'):\n",
    "    print('Analyse ', i.split('\\\\')[-1])\n",
    "    [dic_calib, d_cm, dict_calib, toggle_selector, sens1, sens2, analyte1, analyte2, fig_op, \n",
    "     fig_op2] = depth_profile(file=i, cm_conv=cm, cutoff=cutoff, lw=lw, cmap=cmap,\n",
    "                              name_single=name_singles, max_calib=500, \n",
    "                              offset=(28, 22))"
   ]
  },
  {
   "cell_type": "code",
   "execution_count": 133,
   "metadata": {},
   "outputs": [
    {
     "name": "stdout",
     "output_type": "stream",
     "text": [
      "{'end_px': (109, 132), 'start_px': (110, 275)} slope None abscissa [132. 133. 134. 135. 136. 137. 138. 139. 140. 141. 142. 143. 144. 145.\n",
      " 146. 147. 148. 149. 150. 151. 152. 153. 154. 155. 156. 157. 158. 159.\n",
      " 160. 161. 162. 163. 164. 165. 166. 167. 168. 169. 170. 171. 172. 173.\n",
      " 174. 175. 176. 177. 178. 179. 180. 181. 182. 183. 184. 185. 186. 187.\n",
      " 188. 189. 190. 191. 192. 193. 194. 195. 196. 197. 198. 199. 200. 201.\n",
      " 202. 203. 204. 205. 206. 207. 208. 209. 210. 211. 212. 213. 214. 215.\n",
      " 216. 217. 218. 219. 220. 221. 222. 223. 224. 225. 226. 227. 228. 229.\n",
      " 230. 231. 232. 233. 234. 235. 236. 237. 238. 239. 240. 241. 242. 243.\n",
      " 244. 245. 246. 247. 248. 249. 250. 251. 252. 253. 254. 255. 256. 257.\n",
      " 258. 259. 260. 261. 262. 263. 264. 265. 266. 267. 268. 269. 270. 271.\n",
      " 272. 273. 274. 275.]\n",
      "vertical\n",
      "vertical\n"
     ]
    }
   ],
   "source": [
    "%run depth_profile_v1.py\n",
    "\n",
    "def print_profile(toggle_selector, analyte1, analyte2, singleID, d_cm, lw, name_id, plt_limit):\n",
    "    [i1, i2, depth1, depth2, drawLine, slope, \n",
    "     y_absz] = valuesFromLine(toggle_selector=toggle_selector, d_px=d_cm, analyte1=analyte1, \n",
    "                              analyte2=analyte2, lw_profile=lw)\n",
    "    \n",
    "    # plotting results - depth profile\n",
    "    fig, ax = plot.plot_depthProfile(singleID=name_id, depth1=depth1, depth2=depth2, \n",
    "                                     plt_limit=plt_limit)\n",
    "    \n",
    "    return depth1, depth2, fig, ax, drawLine, slope, y_absz, i1, i2\n",
    "\n",
    "lw_profile = 10.\n",
    "[depth1, depth2, fig, ax, drawLine, slope, y_absz, i1, \n",
    " i2] = print_profile(toggle_selector=toggle_selector, analyte1=analyte1-25, analyte2=analyte2-25,\n",
    "                     singleID=dic_calib['singleID'], d_cm=d_cm, lw=lw_profile, name_id=name_singles, \n",
    "                     plt_limit=[-25, 400])"
   ]
  },
  {
   "cell_type": "code",
   "execution_count": 134,
   "metadata": {},
   "outputs": [],
   "source": [
    "# saving results\n",
    "if os.path.isdir(path_res) == False:\n",
    "    pathlib.Path(path_res).mkdir(parents=True, exist_ok=True)\n",
    "        \n",
    "for t in save_op['type']:\n",
    "    fig.savefig(path_res + 'SingleIndicator_DepthProfile_run2_RoI2.' + t, dpi=save_op['dpi'],\n",
    "                transparent=True)"
   ]
  },
  {
   "cell_type": "code",
   "execution_count": null,
   "metadata": {},
   "outputs": [],
   "source": []
  },
  {
   "cell_type": "markdown",
   "metadata": {},
   "source": [
    "### combine information for dual sensing"
   ]
  },
  {
   "cell_type": "code",
   "execution_count": 59,
   "metadata": {
    "scrolled": false
   },
   "outputs": [],
   "source": [
    "d = _load_calibration_dual(path_calib=dic_calib['header']['calibration file'], simply=True,\n",
    "                           ratiometric=bool(dic_calib['header']['ratiometric evaluation']))\n",
    "df_calFit = pd.concat(d['Fit']['best Fit']['Dual+MY'], axis=1)\n",
    "dd_int = d['data']['integral']['Dual+MY']\n",
    "dd_ratio = dd_int / dd_int.loc[0]\n",
    "\n",
    "dt = df_calFit.min()/df_calFit\n",
    "limit = dt[round(dt['Pt-TPTBP+MY'] / dt['Pd-TPTBP+MY'], 2)[0] <=1.00].index[0]\n",
    "\n",
    "limit = 70."
   ]
  },
  {
   "cell_type": "code",
   "execution_count": 60,
   "metadata": {},
   "outputs": [],
   "source": [
    "# plotting\n",
    "ls_colors = ['#ff8c00', '#347474']\n",
    "fig, ax = plt.subplots(figsize=(5,5), nrows=2, sharex=True)\n",
    "axR = ax[0].twinx()\n",
    "axT = ax[0].twiny()\n",
    "axR.get_shared_y_axes().join(axR, ax[0])\n",
    "axT.get_shared_x_axes().join(axT, ax[0])\n",
    "axR1 = ax[1].twinx()\n",
    "axT1 = ax[1].twiny()\n",
    "axR1.get_shared_y_axes().join(axR1, ax[1])\n",
    "axT1.get_shared_x_axes().join(axT1, ax[1])\n",
    "\n",
    "for en, c in enumerate(df_calFit.columns):\n",
    "    ax[0].plot(df_calFit[c].max()/df_calFit[c], lw=1., ls='-.', color=ls_colors[en])\n",
    "    ax[1].plot(df_calFit[c].min()/df_calFit[c], lw=1., ls='-.', color=ls_colors[en])\n",
    "\n",
    "ax[0].legend(df_calFit.columns.levels[0], fontsize=8, frameon=True, fancybox=True)\n",
    "for en, c in enumerate(df_calFit.columns):\n",
    "    ax[0].plot(1/dd_ratio[c[0]], lw=0., marker='o', fillstyle='none', ms=4, color=ls_colors[en])\n",
    "    ax[1].plot(dd_ratio[c[0]].min()/dd_ratio[c[0]], lw=0., marker='o', fillstyle='none', ms=4, \n",
    "               color=ls_colors[en])\n",
    "ax[1].axvline(limit, lw=1., color='crimson')\n",
    "\n",
    "ax[0].tick_params(axis='both', which='both', direction='out')\n",
    "ax[1].tick_params(axis='both', which='both', direction='out')\n",
    "axR.tick_params(axis='both', which='both', direction='in', labelcolor='white')\n",
    "axT.tick_params(axis='both', which='both', direction='in', labelcolor='white')\n",
    "axR1.tick_params(axis='both', which='both', direction='in', labelcolor='white')\n",
    "axT1.tick_params(axis='both', which='both', direction='in', labelcolor='white')\n",
    "ax[1].set_xlabel('$O_2$ concentration [hPa]')\n",
    "ax[0].set_ylabel('Integral $R_0/R$')\n",
    "ax[1].set_ylabel('Rel. integral')\n",
    "plt.tight_layout()"
   ]
  },
  {
   "cell_type": "code",
   "execution_count": null,
   "metadata": {},
   "outputs": [],
   "source": []
  },
  {
   "cell_type": "markdown",
   "metadata": {},
   "source": [
    "##### combine indicator results accordingly"
   ]
  },
  {
   "cell_type": "code",
   "execution_count": 135,
   "metadata": {},
   "outputs": [
    {
     "name": "stdout",
     "output_type": "stream",
     "text": [
      "delete all values <  70.0\n",
      "\n",
      "re-fill nan values with analyte 2\n"
     ]
    }
   ],
   "source": [
    "analyte_comb = analyte1.copy()\n",
    "\n",
    "if name_singles[0].startswith('Pt'):\n",
    "    print('delete all values < ', limit)\n",
    "    for col in analyte_comb.columns:\n",
    "        analyte_comb.loc[~(analyte_comb[col] >= limit), col] = 0.\n",
    "else:\n",
    "    print('delete all values > ', limit) \n",
    "    for col in analyte_comb.columns:\n",
    "        analyte_comb.loc[~(analyte_comb[col] <= limit), col] = 0.\n",
    "# ----------------------------\n",
    "print('\\nre-fill nan values with analyte 2')   \n",
    "\n",
    "for col in analyte2.columns:\n",
    "        analyte2.loc[~(analyte2[col] <= limit), col] = 0.\n",
    "analyte_joint = analyte2 + analyte_comb"
   ]
  },
  {
   "cell_type": "code",
   "execution_count": 136,
   "metadata": {},
   "outputs": [],
   "source": [
    "# balancing outcome (smoothing, cick out values out of range,...)\n",
    "for col in analyte_joint.columns:\n",
    "    analyte_joint.loc[~(analyte_joint[col] > 0), col] = np.nan\n",
    "    \n",
    "if analyte_joint.isnull().any().any() == True:\n",
    "    # find position of nan values\n",
    "    dic_index = dict(map(lambda c: (c, analyte_joint[analyte_joint[c].isnull()].index.tolist()), \n",
    "                         analyte_joint.columns))\n",
    "    df_joint = mean_values_around_nan(dic_index, analyte_joint)  \n",
    "else:\n",
    "    df_joint = analyte_joint"
   ]
  },
  {
   "cell_type": "code",
   "execution_count": 137,
   "metadata": {},
   "outputs": [
    {
     "name": "stdout",
     "output_type": "stream",
     "text": [
      "{'end_px': (109, 132), 'start_px': (110, 275)} slope None abscissa [132. 133. 134. 135. 136. 137. 138. 139. 140. 141. 142. 143. 144. 145.\n",
      " 146. 147. 148. 149. 150. 151. 152. 153. 154. 155. 156. 157. 158. 159.\n",
      " 160. 161. 162. 163. 164. 165. 166. 167. 168. 169. 170. 171. 172. 173.\n",
      " 174. 175. 176. 177. 178. 179. 180. 181. 182. 183. 184. 185. 186. 187.\n",
      " 188. 189. 190. 191. 192. 193. 194. 195. 196. 197. 198. 199. 200. 201.\n",
      " 202. 203. 204. 205. 206. 207. 208. 209. 210. 211. 212. 213. 214. 215.\n",
      " 216. 217. 218. 219. 220. 221. 222. 223. 224. 225. 226. 227. 228. 229.\n",
      " 230. 231. 232. 233. 234. 235. 236. 237. 238. 239. 240. 241. 242. 243.\n",
      " 244. 245. 246. 247. 248. 249. 250. 251. 252. 253. 254. 255. 256. 257.\n",
      " 258. 259. 260. 261. 262. 263. 264. 265. 266. 267. 268. 269. 270. 271.\n",
      " 272. 273. 274. 275.]\n",
      "vertical\n"
     ]
    }
   ],
   "source": [
    "[i_sup, i2, depth_sup, df2, drawLine, slope, \n",
    " y_absz] = valuesFromLine(drawLine=drawLine, d_px=d_cm, analyte1=df_joint, lw_profile=lw_profile)"
   ]
  },
  {
   "cell_type": "code",
   "execution_count": 138,
   "metadata": {},
   "outputs": [],
   "source": [
    "fig_depth, ax_depth = plt.subplots()\n",
    "axR = ax_depth.twinx()\n",
    "axT = ax_depth.twiny()\n",
    "axR.get_shared_y_axes().join(axR, ax_depth)\n",
    "axT.get_shared_x_axes().join(axT, ax_depth)\n",
    "\n",
    "if slope:\n",
    "    if slope < 80:\n",
    "        ax_depth.plot(depth_sup, color='#46505A')\n",
    "    else:\n",
    "        ax_depth.plot(depth_sup, color='#46505A')\n",
    "else:\n",
    "    ax_depth.plot(depth_sup)\n",
    "    pd.DataFrame(depth1[0].to_numpy(),\n",
    "                 index=df_joint.loc[i1.index, i1.columns].mean(axis=1))\n",
    "\n",
    "#ax_depth.set_xlim(-25, 600)\n",
    "ax_depth.tick_params(axis='both', which='both', direction='out')\n",
    "axR.tick_params(axis='both', which='both', direction='in', labelcolor='white')\n",
    "axT.tick_params(axis='both', which='both', direction='in', labelcolor='white')\n",
    "\n",
    "ax_depth.set_xlabel('$O_2$ concentration [hPa]')\n",
    "ax_depth.set_ylabel('depth [cm]')\n",
    "\n",
    "plt.tight_layout()"
   ]
  },
  {
   "cell_type": "code",
   "execution_count": 140,
   "metadata": {},
   "outputs": [],
   "source": [
    "# plot joint information\n",
    "W, H = np.meshgrid(sens1.columns, sens1.index)\n",
    "o2_calc = np.array(df_joint)\n",
    "m = np.ma.masked_where(np.isnan(o2_calc), o2_calc)\n",
    "\n",
    "fig_op, ax_op = plt.subplots(figsize=(7, 5))\n",
    "pcm = ax_op.pcolormesh(W, H, m, cmap=cmap, norm=colors.Normalize(vmin=0, vmax=500))\n",
    "fig_op.colorbar(pcm, ax=ax_op, extend='max')\n",
    "\n",
    "Xflat, Yflat, Zflat = W.flatten(), H.flatten(), m.flatten()\n",
    "def fmt(x, y):\n",
    "    # get closest point with known data\n",
    "    dist = np.linalg.norm(np.vstack([Xflat - x, Yflat - y]), axis=0)\n",
    "    idx = np.argmin(dist)\n",
    "    z = Zflat[idx]\n",
    "    return 'x={x:.5f}  y={y:.5f}  z={z:.5f}'.format(x=x, y=y, z=z)\n",
    "ax_op.format_coord = fmt\n",
    "\n",
    "plt.tight_layout()"
   ]
  },
  {
   "cell_type": "code",
   "execution_count": 141,
   "metadata": {},
   "outputs": [],
   "source": [
    "for t in save_op['type']:\n",
    "    fig_op.savefig(path_res + 'DualIndicator_ImageFrame_RoI.' + t, dpi=save_op['dpi'], transparent=True)\n",
    "    #fig_depth.savefig(path_res + 'DualIndicator_DepthProfile_RoI2.' + t, dpi=save_op['dpi'], \n",
    "    #                  transparent=True)"
   ]
  },
  {
   "cell_type": "code",
   "execution_count": null,
   "metadata": {},
   "outputs": [],
   "source": []
  },
  {
   "cell_type": "code",
   "execution_count": null,
   "metadata": {},
   "outputs": [],
   "source": []
  }
 ],
 "metadata": {
  "kernelspec": {
   "display_name": "Python 3",
   "language": "python",
   "name": "python3"
  },
  "language_info": {
   "codemirror_mode": {
    "name": "ipython",
    "version": 3
   },
   "file_extension": ".py",
   "mimetype": "text/x-python",
   "name": "python",
   "nbconvert_exporter": "python",
   "pygments_lexer": "ipython3",
   "version": "3.7.4"
  }
 },
 "nbformat": 4,
 "nbformat_minor": 2
}
