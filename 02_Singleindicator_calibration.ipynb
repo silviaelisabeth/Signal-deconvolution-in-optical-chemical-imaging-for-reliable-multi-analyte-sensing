{
 "cells": [
  {
   "cell_type": "markdown",
   "metadata": {},
   "source": [
    "# Single indicator calibration"
   ]
  },
  {
   "cell_type": "code",
   "execution_count": 13,
   "metadata": {},
   "outputs": [
    {
     "name": "stdout",
     "output_type": "stream",
     "text": [
      "Using matplotlib backend: Qt5Agg\n"
     ]
    }
   ],
   "source": [
    "%run calibration_Cube_v4.py\n",
    "%matplotlib"
   ]
  },
  {
   "cell_type": "raw",
   "metadata": {},
   "source": [
    "# IMPORTANT NOTES\n",
    "- concentration of the calibration point must be written on the position before _cube. indicated by \"pc\" or \"hPa\"\n",
    "- using radiometrically corrected cubes instead of raw cube; skip white balancing then\n",
    "- rotation of the cube is only possible for 0, 90, 180, 270 deg"
   ]
  },
  {
   "cell_type": "markdown",
   "metadata": {},
   "source": [
    "#### individual indicator fit"
   ]
  },
  {
   "cell_type": "code",
   "execution_count": 45,
   "metadata": {},
   "outputs": [],
   "source": [
    "# initial parameter required\n",
    "# additional label for RoI separated by space letter!!!\n",
    "name_dyes = ['Pt-TPTBP+MY 1', 'Pt-TPTBP+MY 2', 'Pt-TPTBP+MY 3',\n",
    "             'Pd-TPTBP+MY 1', 'Pd-TPTBP+MY 2', 'Pd-TPTBP+MY 3']\n",
    "# !!! same order as name_dyes!!!!\n",
    "name_singles = ['Pt-TPTBP+MY', 'Pd-TPTBP+MY']\n",
    "analyte = 'O2'\n",
    "unit = 'hPa' #%air or hPa\n",
    "\n",
    "# pixel - selection from image cube shape: px(y/x) = HxW - anti-clockwise n the same order \n",
    "# as name_dyes\n",
    "# TPTBP\n",
    "pixel_rot = [[(850, 1530), (900, 1530), (900, 1580), (850, 1580)],\n",
    "             [(910, 1500), (960, 1500), (960, 1580), (910, 1580)],\n",
    "             [(1015, 1510), (1065, 1510), (1065, 1570), (1015, 1570)],\n",
    "             # Pd-TPTBP\n",
    "             [(750, 560), (800, 560), (800, 690), (750, 690)],\n",
    "             [(850, 570), (930, 570), (930, 680), (850, 680)],\n",
    "             [(960, 600), (1060, 600), (1060, 670), (960, 670)]]\n",
    "# TFPP\n",
    "#pixel_rot = [[(380, 570), (420, 570), (420, 650), (380, 650)],\n",
    "#             [(450, 595), (540, 595), (540, 666), (450, 666)],\n",
    "#             [(550, 595), (600, 595), (600, 660), (550, 660)],\n",
    "             # Pd-TPTBP\n",
    "#            [(380, 1465), (420, 1465), (420, 1528), (380, 1528)],\n",
    "#            [(430, 1465), (490, 1465), (490, 1528), (430, 1528)],\n",
    "#            [(500, 1470), (540, 1470), (540, 1528), (500, 1528)]]\n",
    "\n",
    "# ----------------------------------\n",
    "arg = {'px color': '#a40019', 'rotation': 180., 'show bands': 123, 'color Pt': '#ff8c00', \n",
    "       'color Pd': '#347474', 'figure size meas': (5,3), 'fontsize meas': 13., 'colors':'viridis'}\n",
    "\n",
    "# individual/dual/all, reference, middle (meaning the rest)\n",
    "what_fit = ['individual', 'reference', 'middle']\n",
    "arg_fit = {'fit range sensor': (650, 900), 'fit range ref': (490, 580),\n",
    "           'fit concentration': (0, 1000)}\n",
    "\n",
    "#save_genic = True\n",
    "save_op = {'type': ['png', 'tiff', 'svg'], 'dpi': 300.}\n",
    "\n",
    "file_hdr = '20200701_ID-SZ10-16_radiometric/TPTBP/calibration/Optode_100ms_0hPa_cube_radiometric.hdr'\n",
    "path_calib = '20200701_ID-SZ10-16_radiometric/TPTBP/calibration/' \n",
    "path_res = '20200701_ID-SZ10-16_radiometric/TPTBP/output/'"
   ]
  },
  {
   "cell_type": "markdown",
   "metadata": {},
   "source": [
    "#### pre-test for pixel and individual file "
   ]
  },
  {
   "cell_type": "code",
   "execution_count": 46,
   "metadata": {},
   "outputs": [],
   "source": [
    "# test plot cube -> check whether selected pixel/area is within cube shape\n",
    "ls_px = []\n",
    "if pixel_rot:\n",
    "    for p in pixel_rot:\n",
    "        for pp in p:\n",
    "            ls_px.append(pp)\n",
    "else:\n",
    "    ls_px = None\n",
    "corr.load_testcube(file_hdr=file_hdr, pixel_rot=ls_px, span_area=True, arg=arg)      "
   ]
  },
  {
   "cell_type": "code",
   "execution_count": null,
   "metadata": {},
   "outputs": [],
   "source": []
  },
  {
   "cell_type": "markdown",
   "metadata": {},
   "source": [
    "#### determine generic function of single indicator"
   ]
  },
  {
   "cell_type": "code",
   "execution_count": 47,
   "metadata": {},
   "outputs": [
    {
     "name": "stdout",
     "output_type": "stream",
     "text": [
      "=================================\n",
      "Time of execution --- 6.300626993179321 seconds \n"
     ]
    }
   ],
   "source": [
    "arg_fit['fit concentration'] =  (0, 60)\n",
    "# =================================================================\n",
    "start_time = time.time()\n",
    "[dic_cube, dic_fitting, fig, \n",
    " ax] = cC.generic_function_cube_v2(path_100=path_calib, pixel_rot=pixel_rot, arg=arg, arg_fit=arg_fit, \n",
    "                                   name_dyes=name_dyes, ls_sensor_fit=name_singles, path_res=path_res,\n",
    "                                   what_fit=what_fit, unit=unit, analyte=analyte, plot_meas=False, \n",
    "                                   plot_result=True, saving=False)\n",
    "\n",
    "print('=================================')\n",
    "print(\"Time of execution --- %s seconds \" % (time.time() - start_time))"
   ]
  },
  {
   "cell_type": "markdown",
   "metadata": {},
   "source": [
    "#### spectral deviation of generic function to plate-reader "
   ]
  },
  {
   "cell_type": "code",
   "execution_count": 48,
   "metadata": {},
   "outputs": [],
   "source": [
    "file_sensorID = 'C:/Users/au652733/OneDrive - Aarhus Universitet/Project organization/01 protocol/Sensors_ID.xlsx'\n",
    "\n",
    "path_pr = \"U:/Documents/UPython/09_optode_characterization/measurement/\"\n",
    "# TFPP\n",
    "#file_ref1 = path_pr + '20-06-08 18-56-32_SZ-13_SZ-16_em420-840_ex390_anoxic.txt'\n",
    "#file_ref2 = path_pr + '20-06-08 19-02-40_SZ-14_SZ-15_em440-750_ex410_anoxic.txt'\n",
    "#name_foile = ['SZ-13', 'SZ-14']\n",
    "\n",
    "# TPTBP\n",
    "file_ref1 = path_pr + '20-06-08 18-16-10_SZ-4_SZ-6_SZ-7.2_SZ-7.3_SZ-9.3_SZ-9.2_SZ-11.3_SZ-12.3_em465-840_ex440_anoxic.txt'\n",
    "file_ref2 = path_pr + '20-06-08 18-16-10_SZ-4_SZ-6_SZ-7.2_SZ-10.3_SZ-9.3_SZ-9.2_SZ-7.3_SZ-12.3_em465-840_ex440_anoxic.txt'\n",
    "name_foile = ['SZ-11.3', 'SZ-10.3']\n",
    "\n",
    "file_ref = [file_ref1, file_ref2]"
   ]
  },
  {
   "cell_type": "code",
   "execution_count": 49,
   "metadata": {},
   "outputs": [],
   "source": [
    "corr.spectral_deviation(file_sensorID=file_sensorID, data_cube=dic_fitting['result'], \n",
    "                        file_ref=file_ref, name_foile=name_foile, arg=arg, arg_fit=arg_fit)"
   ]
  },
  {
   "cell_type": "code",
   "execution_count": null,
   "metadata": {},
   "outputs": [],
   "source": []
  },
  {
   "cell_type": "markdown",
   "metadata": {},
   "source": [
    "#### Split all calibration cubes into RoI and store information"
   ]
  },
  {
   "cell_type": "code",
   "execution_count": 36,
   "metadata": {
    "scrolled": true
   },
   "outputs": [
    {
     "name": "stdout",
     "output_type": "stream",
     "text": [
      "=================================\n",
      "Time of execution --- 42.98277831077576 seconds \n"
     ]
    }
   ],
   "source": [
    "# calibration of individual measurement points\n",
    "arg_fit['fit concentration'] = (0, 1000)\n",
    "\n",
    "# ==========================================================================\n",
    "start_time = time.time()\n",
    "fit_range = np.arange(arg_fit['fit concentration'][0], arg_fit['fit concentration'][1]+1)\n",
    "dic_cube = dict()\n",
    "for i in glob(path_calib + '/*.hdr'):\n",
    "    if np.float(i.split(unit)[0].split('_')[-1]) in fit_range:\n",
    "        cube, fig, ax = corr.hyperCube_preparation(i, arg=arg, name_dyes=name_dyes, unit=unit,\n",
    "                                                   pixel_rot=pixel_rot, cube_type='single',\n",
    "                                                   save=True, averaging=True, plotting=True)\n",
    "        dic_cube[cube['Concentration']] = cube['region of interest']\n",
    "print('=================================')\n",
    "print(\"Time of execution --- %s seconds \" % (time.time() - start_time))"
   ]
  },
  {
   "cell_type": "code",
   "execution_count": null,
   "metadata": {},
   "outputs": [],
   "source": []
  },
  {
   "cell_type": "markdown",
   "metadata": {},
   "source": [
    "#### calibration single indicator"
   ]
  },
  {
   "cell_type": "code",
   "execution_count": 50,
   "metadata": {
    "scrolled": false
   },
   "outputs": [
    {
     "name": "stdout",
     "output_type": "stream",
     "text": [
      "integral\n",
      "Calibration check\n",
      "\t K(sv) - Pt-TPTBP+MY 0.016\n",
      "\t K(sv) - Pd-TPTBP+MY 0.054\n",
      "\t K(sv) ratio Pd-TPTBP+MY / Pt-TPTBP+MY 3.372\n",
      "=================================\n",
      "Time of execution --- 9.773608207702637 seconds \n"
     ]
    }
   ],
   "source": [
    "# stored calibration files for single indicators as hdf5 - Files (already corrected)\n",
    "path_calib = '20200701_ID-SZ10-16_radiometric/TPTBP/output_1/correctionCube/singleIndicator/'\n",
    "path_firesting = '20200701_ID-SZ10-16_radiometric/TPTBP/Firesting/O2_calibration_100ms.txt'\n",
    "\n",
    "arg_fit['fit concentration'] = (0, 1000)\n",
    "ls_outlier = None # provid a list with the concentration noted in the file name or state None ['50hPa']\n",
    "#par0 = dict({'Pt-TFPP+MY': dict({'k': 0.0447, 'f': 0.887}), \n",
    "#             'Pd-TFPP+MY': dict({'k': 0.2132, 'f': 0.887})})\n",
    "par0 = dict({'Pt-TPTBP+MY': dict({'k': 0.0447, 'f': 0.887}), \n",
    "             'Pd-TPTBP+MY': dict({'k': 0.2132, 'f': 0.887})})\n",
    "arg['lambda reference'] = 500.\n",
    "\n",
    "# ==================================================================\n",
    "start_time = time.time()\n",
    "%run calibration_Cube_v4.py\n",
    "\n",
    "[dic_SVFit, calib_info, df_calib,\n",
    " dic_min] = singleSensor_calibration(path_calib=path_calib, arg=arg, arg_fit=arg_fit, par0=par0,\n",
    "                                     what_fit=what_fit, name_singles=name_singles, name_RoI=name_dyes, \n",
    "                                     save_op=save_op, path_firesting=path_firesting, unit=unit,\n",
    "                                     ls_outlier=ls_outlier, analyte=analyte, ratiometric=True, \n",
    "                                     plotting=True, save=False, simply=True)\n",
    "print('Calibration check')\n",
    "print('\\t K(sv) -', name_singles[0], round(dic_SVFit[name_singles[0] + ' Fit']['Report'].best_values['k'],3))\n",
    "print('\\t K(sv) -', name_singles[1], round(dic_SVFit[name_singles[1] + ' Fit']['Report'].best_values['k'], 3))\n",
    "print('\\t K(sv) ratio', [x for x in name_singles if x.startswith('Pd')][0], '/', [x for x in name_singles if x.startswith('Pt')][0], \n",
    "      round(dic_SVFit[[x for x in name_singles if x.startswith('Pd')][0] + ' Fit']['Report'].best_values['k'] / dic_SVFit[[x for x in name_singles if x.startswith('Pt')][0] + ' Fit']['Report'].best_values['k'], 3))\n",
    "print('=================================')\n",
    "print(\"Time of execution --- %s seconds \" % (time.time() - start_time))\n"
   ]
  },
  {
   "cell_type": "code",
   "execution_count": null,
   "metadata": {},
   "outputs": [],
   "source": []
  },
  {
   "cell_type": "code",
   "execution_count": 38,
   "metadata": {},
   "outputs": [],
   "source": [
    "import seaborn as sns\n",
    "fs = 11\n",
    "colors = dict({name_dyes[0]: sns.cubehelix_palette(len(dic_min.keys()), start=.5, rot=-.75), \n",
    "              name_dyes[1]: sns.cubehelix_palette(len(dic_min.keys()))})\n",
    "fig1, ax1 = plt.subplots(figsize=(7,3), ncols=2, sharex=True)\n",
    "axR1 = ax1[0].twinx()\n",
    "axT1 = ax1[0].twiny()\n",
    "axR1.get_shared_y_axes().join(axR1, ax1[0])\n",
    "axT1.get_shared_x_axes().join(axT1, ax1[0])\n",
    "axR2 = ax1[1].twinx()\n",
    "axT2 = ax1[1].twiny()\n",
    "axR2.get_shared_y_axes().join(axR2, ax1[1])\n",
    "axT2.get_shared_x_axes().join(axT2, ax1[1])\n",
    "\n",
    "ax1[0].set_title(name_singles[0], fontsize=fs*0.8, loc='left')\n",
    "ax1[1].set_title(name_singles[1], fontsize=fs*0.8, loc='left')\n",
    "\n",
    "df_sens1 = pd.concat([pd.concat(dic_min[c], axis=1).filter(like=name_singles[0]).mean(axis=1) \n",
    "                      for c in dic_min.keys()], axis=1, keys=dic_min.keys())\n",
    "df_sens2 = pd.concat([pd.concat(dic_min[c], axis=1).filter(like=name_singles[1]).mean(axis=1) \n",
    "                      for c in dic_min.keys()], axis=1, keys=dic_min.keys())\n",
    "sens1_max = max([dic_min[c][name_dyes[0]].loc[650:].max().values[0] for c in dic_min.keys()])\n",
    "sens2_max = max([dic_min[c][name_dyes[1]].loc[650:].max().values[0] for c in dic_min.keys()])\n",
    "for en, c in enumerate(dic_min.keys()):\n",
    "    ax1[0].plot(df_sens1[c]/sens1_max, color=colors[name_dyes[0]][en])\n",
    "    ax1[1].plot(df_sens2[c]/sens2_max, color=colors[name_dyes[1]][en])\n",
    "\n",
    "ax1[0].tick_params(axis='both', which='both', direction='in', labelsize=fs*0.8)\n",
    "axR1.tick_params(axis='both', which='both', direction='in', labelsize=fs*0.8, labelcolor='white')\n",
    "axT1.tick_params(axis='both', which='both', direction='in', labelsize=fs*0.8, labelcolor='white')\n",
    "ax1[1].tick_params(axis='both', which='both', direction='in', labelsize=fs*0.8)\n",
    "axR2.tick_params(axis='both', which='both', direction='in', labelsize=fs*0.8, labelcolor='white')\n",
    "axT2.tick_params(axis='both', which='both', direction='in', labelsize=fs*0.8, labelcolor='white')\n",
    "\n",
    "ax1[0].set_ylabel('Rel. fluorescence [rfu]', fontsize=fs) \n",
    "ax1[1].set_ylabel('Rel. fluorescence [rfu]', fontsize=fs) \n",
    "ax1[0].set_xlabel('Wavelength [nm]', fontsize=fs)\n",
    "ax1[1].set_xlabel('Wavelength [nm]', fontsize=fs)\n",
    "plt.tight_layout()\n",
    "plt.show()"
   ]
  },
  {
   "cell_type": "code",
   "execution_count": null,
   "metadata": {},
   "outputs": [],
   "source": []
  }
 ],
 "metadata": {
  "kernelspec": {
   "display_name": "Python 3",
   "language": "python",
   "name": "python3"
  },
  "language_info": {
   "codemirror_mode": {
    "name": "ipython",
    "version": 3
   },
   "file_extension": ".py",
   "mimetype": "text/x-python",
   "name": "python",
   "nbconvert_exporter": "python",
   "pygments_lexer": "ipython3",
   "version": "3.7.4"
  }
 },
 "nbformat": 4,
 "nbformat_minor": 2
}
