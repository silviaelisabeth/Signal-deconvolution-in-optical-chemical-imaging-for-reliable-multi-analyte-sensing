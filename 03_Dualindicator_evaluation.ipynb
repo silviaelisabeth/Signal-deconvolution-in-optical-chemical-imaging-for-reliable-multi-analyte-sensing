{
 "cells": [
  {
   "cell_type": "code",
   "execution_count": 2,
   "metadata": {},
   "outputs": [
    {
     "name": "stdout",
     "output_type": "stream",
     "text": [
      "Using matplotlib backend: Qt5Agg\n"
     ]
    }
   ],
   "source": [
    "%run calibration_Cube_v4.py\n",
    "%matplotlib"
   ]
  },
  {
   "cell_type": "markdown",
   "metadata": {},
   "source": [
    "### load data and define parameter"
   ]
  },
  {
   "cell_type": "code",
   "execution_count": 8,
   "metadata": {},
   "outputs": [
    {
     "name": "stdout",
     "output_type": "stream",
     "text": [
      "Pixel size analyzed:\n",
      "\t Dual+MY 193500 px\n"
     ]
    }
   ],
   "source": [
    "# initial parameter required\n",
    "# pixel for SZ 10-12\n",
    "name_RoI = ['Dual+MY']\n",
    "name_dyes = ['Dual+MY']\n",
    "name_single = ['Pt-TPTBP+MY', 'Pd-TPTBP+MY']\n",
    "unit = 'hPa'\n",
    "analyte = 'O2'\n",
    "\n",
    "# pixel - selection from image cube shape: px(y/x) only dualindicator (name_dyes)    \n",
    "# TFPP\n",
    "# dark adaption\n",
    "# pixel_rot = [[(200, 1597), (630, 1597), (630, 2047), (200, 2047)]]\n",
    "# light adaption\n",
    "# pixel_rot = [[(200, 1537), (630, 1537), (630, 2047), (200, 2047)]]\n",
    "\n",
    "# TPTBP\n",
    "# dark adaption\n",
    "# pixel_rot = [[(200, 150), (630, 150), (630, 600), (200, 600)]]\n",
    "# light adaption\n",
    "pixel_rot = [[(200, 100), (630, 100), (630, 550), (200, 550)]]\n",
    "\n",
    "print('Pixel size analyzed:')\n",
    "print('\\t', name_dyes[0], (pixel_rot[0][1][0] - pixel_rot[0][0][0]) * (pixel_rot[0][2][1] - pixel_rot[0][0][1]), 'px')\n",
    "\n",
    "# ----------------------------------\n",
    "arg = {'px color': '#ffa34d', 'color Pt': '#ff8c00', 'color meas1': '#9e7a4d',\n",
    "       'color meas2': '#05f0f0', 'figure size meas': (5,3), 'cmap': 'inferno',\n",
    "       'fontsize': 13.,  # general information for plot\n",
    "       'rotation': 180., # load testcube -> rotate the cube for better visualization\n",
    "       'show bands': 120} # which band shall be plotted in testcube? \n",
    "                                # either tuple (for range) or float (for single band) or\n",
    "                                # None for all\n",
    "\n",
    "# information for fitting and linear unmixing - same as for calibration\n",
    "arg_fit = {'fit range sensor': (660, 900), 'fit range ref': (490, 580),\n",
    "           'fit concentration': (0, 1000), # which concentration points shall be analyzed \n",
    "           'range lc': (660, 900)} # crop the region for linear unmixing\n",
    "bnds = ((0, None), (0, None))\n",
    "\n",
    "# Saving option. Note that the saving of svg-Files requires a rather long time.\n",
    "save_op = {'type': ['png', 'tiff'], 'dpi': 300.}\n",
    "\n",
    "# directory to measurement / calibration / generic function / reference files\n",
    "file_hdr = '20200622_rhizosphere/light_adaption/20200622_optodes_100ms_run2_cube_radiometric.hdr'\n",
    "path_calibrationFit = '20200701_ID-SZ10-16_radiometric/TPTBP/output/multiIndicator/calibration/' \n",
    "file_generic = '20200701_ID-SZ10-16_radiometric/TPTBP/output/Generic_function/202086_Generic_function.txt'\n",
    "path_res = '20200622_rhizosphere/output_fullcalibration20200806/TPTBP/'"
   ]
  },
  {
   "cell_type": "markdown",
   "metadata": {},
   "source": [
    "#### pre-test for pixel and individual file "
   ]
  },
  {
   "cell_type": "code",
   "execution_count": 9,
   "metadata": {},
   "outputs": [],
   "source": [
    "# test plot cube -> check whether selected pixel/area is within cube shape\n",
    "ls_px = []\n",
    "for p in pixel_rot:\n",
    "    for pp in p:\n",
    "        ls_px.append(pp)\n",
    "corr.load_testcube(file_hdr=file_hdr, pixel_rot=ls_px, span_area=True, arg=arg) "
   ]
  },
  {
   "cell_type": "code",
   "execution_count": null,
   "metadata": {},
   "outputs": [],
   "source": []
  },
  {
   "cell_type": "markdown",
   "metadata": {},
   "source": [
    "### Measurement evaluation"
   ]
  },
  {
   "cell_type": "code",
   "execution_count": 10,
   "metadata": {
    "scrolled": true
   },
   "outputs": [
    {
     "name": "stdout",
     "output_type": "stream",
     "text": [
      "=================================\n",
      "Time of execution --- 1350.3807199001312 seconds \n"
     ]
    }
   ],
   "source": [
    "# measurement_evaluation\n",
    "# %run calibration_Cube_v4.py\n",
    "# ==================================================================\n",
    "start_time = time.time()\n",
    "[cube, prefactors, dic_iratio, dic_calib, dic_calc, dfig_im, dfigures, \n",
    " dic_iratio_comb] = dualSensor_evaluation(file_meas=file_hdr, path_calib=path_calibrationFit, arg=arg,\n",
    "                                          arg_fit=arg_fit, name_dyes=name_RoI, pixel_rot=pixel_rot,\n",
    "                                          file_generic=file_generic, name_single=name_single, \n",
    "                                          bnds=bnds, unit=unit, save_op=save_op, path_res=path_res,\n",
    "                                          analyte=analyte, ref_equal=True, cutoff=5., max_calib=False,\n",
    "                                          ratiometric=True, plotting=True, saving=True, \n",
    "                                          save_RoI=False, value_check=False)\n",
    "print('=================================')\n",
    "print(\"Time of execution --- %s seconds \" % (time.time() - start_time))"
   ]
  },
  {
   "cell_type": "code",
   "execution_count": null,
   "metadata": {},
   "outputs": [],
   "source": []
  },
  {
   "cell_type": "markdown",
   "metadata": {},
   "source": [
    "### open measurement evaluation"
   ]
  },
  {
   "cell_type": "code",
   "execution_count": null,
   "metadata": {},
   "outputs": [],
   "source": [
    "%run calibration_Cube_v4.py\n",
    "path_ = '20200622_rhizosphere/output_fullcalibration/multiIndicator/measurement/'\n",
    "for i in glob(path_ + '/*.hdf5'):\n",
    "    if 'run2' in i:\n",
    "        [dict_header, singleID, dic_raw, dict_calib, iratio1, iratio2, analyte1, analyte2, \n",
    "         dic_figures] = load_evaluation(file=i)"
   ]
  },
  {
   "cell_type": "code",
   "execution_count": null,
   "metadata": {
    "scrolled": true
   },
   "outputs": [],
   "source": []
  }
 ],
 "metadata": {
  "kernelspec": {
   "display_name": "Python 3",
   "language": "python",
   "name": "python3"
  },
  "language_info": {
   "codemirror_mode": {
    "name": "ipython",
    "version": 3
   },
   "file_extension": ".py",
   "mimetype": "text/x-python",
   "name": "python",
   "nbconvert_exporter": "python",
   "pygments_lexer": "ipython3",
   "version": "3.7.4"
  }
 },
 "nbformat": 4,
 "nbformat_minor": 2
}
