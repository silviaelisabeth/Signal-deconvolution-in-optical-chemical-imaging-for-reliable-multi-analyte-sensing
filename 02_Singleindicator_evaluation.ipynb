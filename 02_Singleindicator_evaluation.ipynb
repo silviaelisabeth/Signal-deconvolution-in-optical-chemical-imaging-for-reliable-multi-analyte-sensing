{
 "cells": [
  {
   "cell_type": "markdown",
   "metadata": {},
   "source": [
    "# Single indicator measurement evaluation "
   ]
  },
  {
   "cell_type": "code",
   "execution_count": 3,
   "metadata": {},
   "outputs": [
    {
     "data": {
      "text/html": [
       "        <script type=\"text/javascript\">\n",
       "        window.PlotlyConfig = {MathJaxConfig: 'local'};\n",
       "        if (window.MathJax) {MathJax.Hub.Config({SVG: {font: \"STIX-Web\"}});}\n",
       "        if (typeof require !== 'undefined') {\n",
       "        require.undef(\"plotly\");\n",
       "        requirejs.config({\n",
       "            paths: {\n",
       "                'plotly': ['https://cdn.plot.ly/plotly-latest.min']\n",
       "            }\n",
       "        });\n",
       "        require(['plotly'], function(Plotly) {\n",
       "            window._Plotly = Plotly;\n",
       "        });\n",
       "        }\n",
       "        </script>\n",
       "        "
      ]
     },
     "metadata": {},
     "output_type": "display_data"
    },
    {
     "name": "stdout",
     "output_type": "stream",
     "text": [
      "Using matplotlib backend: Qt5Agg\n"
     ]
    }
   ],
   "source": [
    "import scipy.interpolate as si\n",
    "%run math_function_Camera.py\n",
    "%run calibration_Cube_v4.py\n",
    "\n",
    "%matplotlib"
   ]
  },
  {
   "cell_type": "raw",
   "metadata": {},
   "source": [
    "# IMPORTANT NOTES\n",
    "- concentration of the calibration point must be written on the position before _cube. indicated by \"pc\" or \"hPa\"\n",
    "- using radiometrically corrected cubes instead of raw cube; skip white balancing then\n",
    "- rotation of the cube is only possible for 0, 90, 180, 270 deg"
   ]
  },
  {
   "cell_type": "markdown",
   "metadata": {},
   "source": [
    "#### individual indicator fit"
   ]
  },
  {
   "cell_type": "code",
   "execution_count": 4,
   "metadata": {
    "scrolled": true
   },
   "outputs": [
    {
     "name": "stdout",
     "output_type": "stream",
     "text": [
      "Pixel size analyzed:\n",
      "\t Pd-TPTBP+MY 50440 px\n",
      "\t Pd-TPTBP+MY air 22100 px\n",
      "\t Pt-TPTBP+MY 38800 px\n",
      "\t Pt-TPTBP+MY air 11000 px\n"
     ]
    }
   ],
   "source": [
    "# initial parameter required\n",
    "unit = 'hPa'\n",
    "analyte = 'O2'\n",
    "\n",
    "# wich indicator was used in general\n",
    "name_ind = ['Pd-TPTBP+MY', 'Pt-TPTBP+MY'] \n",
    "\n",
    "# label for RoI. If multiple RoIs from the same sensor are required, seperate the respective label\n",
    "# with a space character\n",
    "# meas_dyes = ['Pd-TPTBP+MY', 'Pt-TPTBP+MY']\n",
    "meas_dyes = ['Pd-TPTBP+MY', 'Pd-TPTBP+MY air', 'Pt-TPTBP+MY', 'Pt-TPTBP+MY air']\n",
    "# pixel - selection from image cube shape: px(y/x) = HxW - anti-clockwise\n",
    "# TFPP\n",
    "#pixel_rot = [[(260, 600), (620, 600), (620, 675), (260, 675)],\n",
    "#             [(11, 1480), (540, 1480), (540, 1530), (11, 1530)]]\n",
    "# TPTBP\n",
    "pixel_rot = [[(700, 570), (1088, 570), (1088, 700), (700, 700)],\n",
    "             [(490, 570), (660, 570), (660, 700), (490, 700)],\n",
    "             [(700, 1500), (1088, 1500), (1088, 1600), (700, 1600)],\n",
    "             [(490, 1500), (600, 1500), (600, 1600), (490, 1600)]]\n",
    "\n",
    "print('Pixel size analyzed:')\n",
    "for en, m in enumerate(meas_dyes):\n",
    "    print('\\t', m, (pixel_rot[en][1][0] - pixel_rot[en][0][0]) * (pixel_rot[en][2][1] - pixel_rot[en][0][1]), 'px')\n",
    "    \n",
    "# ----------------------------------\n",
    "arg = {'px color': '#a40019', 'show bands': 120, 'rotation': 180., 'color meas1': '#9e7a4d', \n",
    "       'color meas2': '#05f0f0', 'figure size meas': (5,3), 'fontsize meas': 12., 'cmap': 'inferno'}\n",
    "\n",
    "# save_generic = True\n",
    "# saving figures as svg requires long execution time.\n",
    "save_op = {'type': ['png', 'tiff'], 'dpi': 300.}\n",
    "\n",
    "file_hdr =  '20200701_ID-SZ10-16_radiometric/TPTBP/measurement/Optode_100ms_150hPa_cube_radiometric.hdr'\n",
    "path_calib = '20200701_ID-SZ10-16_radiometric/TPTBP/output/singleindicator/calibration/' \n",
    "path_res = '20200701_ID-SZ10-16_radiometric/TPTBP/output/'"
   ]
  },
  {
   "cell_type": "markdown",
   "metadata": {},
   "source": [
    "#### pre-test for pixel and individual file "
   ]
  },
  {
   "cell_type": "code",
   "execution_count": 6,
   "metadata": {},
   "outputs": [],
   "source": [
    "# test plot cube -> check whether selected pixel/area is within cube shape\n",
    "ls_px = []\n",
    "if pixel_rot:\n",
    "    for p in pixel_rot:\n",
    "        for pp in p:\n",
    "            ls_px.append(pp)\n",
    "else:\n",
    "    ls_px = None\n",
    "corr.load_testcube(file_hdr=file_hdr, pixel_rot=ls_px, span_area=True, arg=arg)      "
   ]
  },
  {
   "cell_type": "code",
   "execution_count": null,
   "metadata": {},
   "outputs": [],
   "source": []
  },
  {
   "cell_type": "markdown",
   "metadata": {},
   "source": [
    "### Measurement evaluation"
   ]
  },
  {
   "cell_type": "code",
   "execution_count": 16,
   "metadata": {},
   "outputs": [
    {
     "name": "stdout",
     "output_type": "stream",
     "text": [
      "=================================\n",
      "Time of execution --- 17.71127486228943 seconds \n"
     ]
    }
   ],
   "source": [
    "start_time = time.time()\n",
    "[cube, dic_iratio, dic_o2_calc, \n",
    "dict_comb] = measurement_evaluation_single(file_meas=file_hdr, path_calib=path_calib, arg_meas=arg,\n",
    "                                           meas_dyes=meas_dyes, name_ind=name_ind, analyte=analyte,\n",
    "                                           pixel_rot=pixel_rot, save_op=save_op, unit=unit, \n",
    "                                           cmap=arg['cmap'], cutoff=5., save_RoI=False, simply=False,\n",
    "                                           ratiometric=True, saving=True, plotting=True)\n",
    "print('=================================')\n",
    "print(\"Time of execution --- %s seconds \" % (time.time() - start_time))"
   ]
  },
  {
   "cell_type": "code",
   "execution_count": null,
   "metadata": {},
   "outputs": [],
   "source": []
  },
  {
   "cell_type": "markdown",
   "metadata": {},
   "source": [
    "### load analysis results\n"
   ]
  },
  {
   "cell_type": "code",
   "execution_count": 10,
   "metadata": {},
   "outputs": [],
   "source": [
    "path_ = '20200423_ID-SZ10-12_radiometric/output/singleindicator/measurement/integral/2020624_Sensor_60ms_LED50_9pc_cube_radiometric_Analysis_run0.hdf5'\n",
    "dic_header, col_px, index_px, dic_raw, dic_iratio, dic_res = load_analysis(path_)"
   ]
  },
  {
   "cell_type": "code",
   "execution_count": null,
   "metadata": {},
   "outputs": [],
   "source": []
  }
 ],
 "metadata": {
  "kernelspec": {
   "display_name": "Python 3",
   "language": "python",
   "name": "python3"
  },
  "language_info": {
   "codemirror_mode": {
    "name": "ipython",
    "version": 3
   },
   "file_extension": ".py",
   "mimetype": "text/x-python",
   "name": "python",
   "nbconvert_exporter": "python",
   "pygments_lexer": "ipython3",
   "version": "3.7.4"
  }
 },
 "nbformat": 4,
 "nbformat_minor": 2
}
